{
 "cells": [
  {
   "cell_type": "markdown",
   "metadata": {},
   "source": [
    "# NumPy Cheat Sheet"
   ]
  },
  {
   "cell_type": "code",
   "execution_count": 191,
   "metadata": {
    "collapsed": true
   },
   "outputs": [],
   "source": [
    "import numpy as np"
   ]
  },
  {
   "cell_type": "markdown",
   "metadata": {},
   "source": [
    "## Creating NumPy arrays using *List* and *Tuple*"
   ]
  },
  {
   "cell_type": "code",
   "execution_count": 192,
   "metadata": {
    "collapsed": false
   },
   "outputs": [],
   "source": [
    "# List to array\n",
    "my_list = [-3, 0, 10, 20, 3]\n",
    "list_to_array = np.array(my_list)\n",
    "\n",
    "# tuple to array\n",
    "my_tuple = (10, -3, 4.5, 15+4j)\n",
    "tuple_to_array = np.array(my_tuple)"
   ]
  },
  {
   "cell_type": "markdown",
   "metadata": {},
   "source": [
    "## *numpy.arange()*"
   ]
  },
  {
   "cell_type": "code",
   "execution_count": 193,
   "metadata": {
    "collapsed": false
   },
   "outputs": [
    {
     "name": "stdout",
     "output_type": "stream",
     "text": [
      "[0 1 2 3 4 5 6]\n",
      "[2 3 4 5 6]\n",
      "[1 3 5 7 9]\n",
      "[]\n"
     ]
    }
   ],
   "source": [
    "# numpy.arange() method generates integer data type numbers in a range starting from [0, stop)\n",
    "print np.arange(7)\n",
    "\n",
    "# numpy.arange() method generates integer data type numbers in a range starting from [start, stop)\n",
    "print np.arange(2,7)\n",
    "\n",
    "# numpy.arange() method generates integer data type numbers in a range starting from [start, stop) with step size\n",
    "print np.arange(1,10,2)\n",
    "\n",
    "# numpy.arange(stop, step_size) -- doesn't work\n",
    "print np.arange(10,2)"
   ]
  },
  {
   "cell_type": "code",
   "execution_count": 194,
   "metadata": {
    "collapsed": false
   },
   "outputs": [
    {
     "name": "stdout",
     "output_type": "stream",
     "text": [
      "[[[ 0  1  2  3  4  5  6  7  8  9]\n",
      "  [10 11 12 13 14 15 16 17 18 19]]\n",
      "\n",
      " [[20 21 22 23 24 25 26 27 28 29]\n",
      "  [30 31 32 33 34 35 36 37 38 39]]\n",
      "\n",
      " [[40 41 42 43 44 45 46 47 48 49]\n",
      "  [50 51 52 53 54 55 56 57 58 59]]\n",
      "\n",
      " [[60 61 62 63 64 65 66 67 68 69]\n",
      "  [70 71 72 73 74 75 76 77 78 79]]]\n"
     ]
    }
   ],
   "source": [
    "# creating 3D array\n",
    "my_3d_array = np.arange(80)\n",
    "\n",
    "# (4, 2, 10) in the below line should be read as\n",
    "# \"there are four 2D arrays where each array has 2 rows and 10 columns\" \n",
    "my_3d_array.shape = (4, 2, 10)\n",
    "print my_3d_array"
   ]
  },
  {
   "cell_type": "markdown",
   "metadata": {},
   "source": [
    "## *numpy.linspace()*"
   ]
  },
  {
   "cell_type": "code",
   "execution_count": 195,
   "metadata": {
    "collapsed": false
   },
   "outputs": [
    {
     "name": "stdout",
     "output_type": "stream",
     "text": [
      "[  1.     3.25   5.5    7.75  10.  ]\n",
      "[  1.     3.25   5.5    7.75  10.  ]\n",
      "2.25\n",
      "[ 1  3  5  7 10]\n"
     ]
    }
   ],
   "source": [
    "# Note that arange() function has [start, stop) whereas linspace has [start, stop]\n",
    "# Note that arange() function generates int data type numbers whereas linspace() generates float data type numbers\n",
    "\n",
    "# generate 5 numbers from [1,10]\n",
    "my_linspace_array = np.linspace(1, 10, 5)\n",
    "print my_linspace_array\n",
    "\n",
    "# know the step size between numbers\n",
    "my_linspace_array = np.linspace(1, 10, 5, retstep = True)\n",
    "print my_linspace_array[0]\n",
    "print my_linspace_array[1]\n",
    "\n",
    "# generate numbers with different data type\n",
    "my_linspace_array = np.linspace(1, 10, 5, dtype = 'int32')\n",
    "print my_linspace_array"
   ]
  },
  {
   "cell_type": "markdown",
   "metadata": {},
   "source": [
    "## *numpy.zeros()*"
   ]
  },
  {
   "cell_type": "code",
   "execution_count": 196,
   "metadata": {
    "collapsed": false
   },
   "outputs": [
    {
     "data": {
      "text/plain": [
       "array([ 0.,  0.,  0.,  0.,  0.,  0.,  0.,  0.,  0.,  0.])"
      ]
     },
     "execution_count": 196,
     "metadata": {},
     "output_type": "execute_result"
    }
   ],
   "source": [
    "# numpy.zeros() function generates array with floating data type\n",
    "np.zeros(10)"
   ]
  },
  {
   "cell_type": "code",
   "execution_count": 197,
   "metadata": {
    "collapsed": false
   },
   "outputs": [
    {
     "data": {
      "text/plain": [
       "array([[ 0.,  0.,  0.,  0.,  0.],\n",
       "       [ 0.,  0.,  0.,  0.,  0.],\n",
       "       [ 0.,  0.,  0.,  0.,  0.],\n",
       "       [ 0.,  0.,  0.,  0.,  0.],\n",
       "       [ 0.,  0.,  0.,  0.,  0.]])"
      ]
     },
     "execution_count": 197,
     "metadata": {},
     "output_type": "execute_result"
    }
   ],
   "source": [
    "# generate 2D array\n",
    "np.zeros((5,5))"
   ]
  },
  {
   "cell_type": "code",
   "execution_count": 198,
   "metadata": {
    "collapsed": false
   },
   "outputs": [
    {
     "data": {
      "text/plain": [
       "array([[[ 0.,  0.,  0.,  0.,  0.,  0.],\n",
       "        [ 0.,  0.,  0.,  0.,  0.,  0.],\n",
       "        [ 0.,  0.,  0.,  0.,  0.,  0.]],\n",
       "\n",
       "       [[ 0.,  0.,  0.,  0.,  0.,  0.],\n",
       "        [ 0.,  0.,  0.,  0.,  0.,  0.],\n",
       "        [ 0.,  0.,  0.,  0.,  0.,  0.]],\n",
       "\n",
       "       [[ 0.,  0.,  0.,  0.,  0.,  0.],\n",
       "        [ 0.,  0.,  0.,  0.,  0.,  0.],\n",
       "        [ 0.,  0.,  0.,  0.,  0.,  0.]],\n",
       "\n",
       "       [[ 0.,  0.,  0.,  0.,  0.,  0.],\n",
       "        [ 0.,  0.,  0.,  0.,  0.,  0.],\n",
       "        [ 0.,  0.,  0.,  0.,  0.,  0.]],\n",
       "\n",
       "       [[ 0.,  0.,  0.,  0.,  0.,  0.],\n",
       "        [ 0.,  0.,  0.,  0.,  0.,  0.],\n",
       "        [ 0.,  0.,  0.,  0.,  0.,  0.]]])"
      ]
     },
     "execution_count": 198,
     "metadata": {},
     "output_type": "execute_result"
    }
   ],
   "source": [
    "# generate 3D array\n",
    "np.zeros((5,3,6))"
   ]
  },
  {
   "cell_type": "code",
   "execution_count": 199,
   "metadata": {
    "collapsed": false
   },
   "outputs": [
    {
     "data": {
      "text/plain": [
       "array([0, 0, 0, 0, 0, 0, 0, 0, 0, 0], dtype=int32)"
      ]
     },
     "execution_count": 199,
     "metadata": {},
     "output_type": "execute_result"
    }
   ],
   "source": [
    "# generate array with integer data type\n",
    "np.zeros(10, dtype = 'int32')"
   ]
  },
  {
   "cell_type": "markdown",
   "metadata": {},
   "source": [
    "## *numpy.ones()*"
   ]
  },
  {
   "cell_type": "code",
   "execution_count": 200,
   "metadata": {
    "collapsed": false
   },
   "outputs": [
    {
     "data": {
      "text/plain": [
       "array([ 1.,  1.,  1.,  1.,  1.,  1.,  1.,  1.,  1.,  1.])"
      ]
     },
     "execution_count": 200,
     "metadata": {},
     "output_type": "execute_result"
    }
   ],
   "source": [
    "# ones() function generates array of ones with default float data type\n",
    "np.ones(10)"
   ]
  },
  {
   "cell_type": "code",
   "execution_count": 201,
   "metadata": {
    "collapsed": false
   },
   "outputs": [
    {
     "data": {
      "text/plain": [
       "array([[1, 1, 1],\n",
       "       [1, 1, 1],\n",
       "       [1, 1, 1],\n",
       "       [1, 1, 1],\n",
       "       [1, 1, 1]], dtype=int32)"
      ]
     },
     "execution_count": 201,
     "metadata": {},
     "output_type": "execute_result"
    }
   ],
   "source": [
    "# generate 2D array of ones with integer datatype\n",
    "np.ones((5,3), dtype = 'int32')"
   ]
  },
  {
   "cell_type": "markdown",
   "metadata": {},
   "source": [
    "## Slice Arrays"
   ]
  },
  {
   "cell_type": "code",
   "execution_count": 202,
   "metadata": {
    "collapsed": false
   },
   "outputs": [
    {
     "name": "stdout",
     "output_type": "stream",
     "text": [
      "10\n",
      "13\n"
     ]
    }
   ],
   "source": [
    "my_array = np.arange(10, 20)\n",
    "print my_array[0]\n",
    "print my_array[3]"
   ]
  },
  {
   "cell_type": "code",
   "execution_count": 203,
   "metadata": {
    "collapsed": false
   },
   "outputs": [
    {
     "name": "stdout",
     "output_type": "stream",
     "text": [
      "[[ 1  2  3  4  5]\n",
      " [ 6  7  8  9 10]\n",
      " [11 12 13 14 15]\n",
      " [16 17 18 19 20]\n",
      " [21 22 23 24 25]\n",
      " [26 27 28 29 30]\n",
      " [31 32 33 34 35]]\n",
      "14\n",
      "14\n"
     ]
    }
   ],
   "source": [
    "# creating and manipulating 2D arrays\n",
    "my_array = np.arange(1,36)\n",
    "my_array.shape = (7,5)\n",
    "print my_array\n",
    "\n",
    "# accessing specific elements\n",
    "row = 2\n",
    "column = 3\n",
    "print my_array[row, column]\n",
    "print my_array[row][column]"
   ]
  },
  {
   "cell_type": "code",
   "execution_count": 204,
   "metadata": {
    "collapsed": false
   },
   "outputs": [
    {
     "name": "stdout",
     "output_type": "stream",
     "text": [
      "[[[ 1  2  3  4  5]\n",
      "  [ 6  7  8  9 10]\n",
      "  [11 12 13 14 15]\n",
      "  [16 17 18 19 20]\n",
      "  [21 22 23 24 25]\n",
      "  [26 27 28 29 30]\n",
      "  [31 32 33 34 35]\n",
      "  [36 37 38 39 40]]\n",
      "\n",
      " [[41 42 43 44 45]\n",
      "  [46 47 48 49 50]\n",
      "  [51 52 53 54 55]\n",
      "  [56 57 58 59 60]\n",
      "  [61 62 63 64 65]\n",
      "  [66 67 68 69 70]\n",
      "  [71 72 73 74 75]\n",
      "  [76 77 78 79 80]]]\n"
     ]
    }
   ],
   "source": [
    "# creating and manipulating 3D arrays\n",
    "my_array = np.arange(1,81)\n",
    "my_array.shape = (2,8,5)\n",
    "print my_array"
   ]
  },
  {
   "cell_type": "code",
   "execution_count": 205,
   "metadata": {
    "collapsed": false
   },
   "outputs": [
    {
     "data": {
      "text/plain": [
       "13"
      ]
     },
     "execution_count": 205,
     "metadata": {},
     "output_type": "execute_result"
    }
   ],
   "source": [
    "my_array[0][2][2]"
   ]
  },
  {
   "cell_type": "code",
   "execution_count": 206,
   "metadata": {
    "collapsed": false
   },
   "outputs": [
    {
     "data": {
      "text/plain": [
       "65"
      ]
     },
     "execution_count": 206,
     "metadata": {},
     "output_type": "execute_result"
    }
   ],
   "source": [
    "my_array[1][4][4]"
   ]
  },
  {
   "cell_type": "code",
   "execution_count": 207,
   "metadata": {
    "collapsed": false
   },
   "outputs": [
    {
     "name": "stdout",
     "output_type": "stream",
     "text": [
      "[[ 0  1  2  3  4  5  6]\n",
      " [ 7  8  9 10 11 12 13]\n",
      " [14 15 16 17 18 19 20]\n",
      " [21 22 23 24 25 26 27]]\n"
     ]
    }
   ],
   "source": [
    "# printing specific segments of array\n",
    "my_array = np.arange(28).reshape(4, 7)\n",
    "print my_array"
   ]
  },
  {
   "cell_type": "code",
   "execution_count": 208,
   "metadata": {
    "collapsed": false
   },
   "outputs": [
    {
     "name": "stdout",
     "output_type": "stream",
     "text": [
      "[[14 15 16 17 18 19 20]\n",
      " [21 22 23 24 25 26 27]]\n"
     ]
    }
   ],
   "source": [
    "print my_array[2:]"
   ]
  },
  {
   "cell_type": "code",
   "execution_count": 209,
   "metadata": {
    "collapsed": false
   },
   "outputs": [
    {
     "name": "stdout",
     "output_type": "stream",
     "text": [
      "[[ 0  1  2  3  4  5  6]\n",
      " [ 7  8  9 10 11 12 13]]\n"
     ]
    }
   ],
   "source": [
    "print my_array[0:2]"
   ]
  },
  {
   "cell_type": "code",
   "execution_count": 210,
   "metadata": {
    "collapsed": false
   },
   "outputs": [
    {
     "name": "stdout",
     "output_type": "stream",
     "text": [
      "[[ 0  1  2]\n",
      " [ 7  8  9]\n",
      " [14 15 16]\n",
      " [21 22 23]]\n"
     ]
    }
   ],
   "source": [
    "print my_array[:, :3]"
   ]
  },
  {
   "cell_type": "markdown",
   "metadata": {},
   "source": [
    "## Boolean Mask Arrays"
   ]
  },
  {
   "cell_type": "markdown",
   "metadata": {},
   "source": [
    "### Using Python functions"
   ]
  },
  {
   "cell_type": "code",
   "execution_count": 211,
   "metadata": {
    "collapsed": false
   },
   "outputs": [
    {
     "name": "stdout",
     "output_type": "stream",
     "text": [
      "numbers:  [ 1  2  3  4  5  6  7  8  9 10 11 12 13 14 15 16 17 18 19]\n",
      "divisibility test:  [False False False False  True False False False False  True False False\n",
      " False False  True False False False False]\n",
      "answer:  [ 5 10 15]\n"
     ]
    }
   ],
   "source": [
    "# Print all numbers within [1,100] divisible by 5 \n",
    "num_array = np.arange(1, 20)\n",
    "print \"numbers: \", num_array\n",
    "\n",
    "div_by_5 = (num_array % 5 == 0)\n",
    "print \"divisibility test: \", div_by_5\n",
    "\n",
    "answer = num_array[div_by_5]\n",
    "print \"answer: \", answer"
   ]
  },
  {
   "cell_type": "markdown",
   "metadata": {},
   "source": [
    "### Using NumPy functions"
   ]
  },
  {
   "cell_type": "code",
   "execution_count": 212,
   "metadata": {
    "collapsed": false
   },
   "outputs": [
    {
     "name": "stdout",
     "output_type": "stream",
     "text": [
      "sequence:  [ 1  2  3  4  5  6  7  8  9 10 11 12 13 14 15 16 17 18 19 20 21 22 23 24 25\n",
      " 26 27 28 29 30 31 32 33 34 35 36 37 38 39 40]\n",
      "divisible by 5:  [False False False False  True False False False False  True False False\n",
      " False False  True False False False False  True False False False False\n",
      "  True False False False False  True False False False False  True False\n",
      " False False False  True]\n",
      "divisible by 7:  [False False False False False False  True False False False False False\n",
      " False  True False False False False False False  True False False False\n",
      " False False False  True False False False False False False  True False\n",
      " False False False False]\n",
      "divisible by 5 and 7:  [False False False False False False False False False False False False\n",
      " False False False False False False False False False False False False\n",
      " False False False False False False False False False False  True False\n",
      " False False False False]\n",
      "answer:  [35]\n"
     ]
    }
   ],
   "source": [
    "# Print all numbers within [1, 40] divisible by 5 and 7\n",
    "num_array = np.arange(1, 41)\n",
    "print \"sequence: \", num_array\n",
    "\n",
    "div_by_5 = num_array % 5 == 0\n",
    "print \"divisible by 5: \", div_by_5\n",
    "\n",
    "div_by_7 = num_array % 7 == 0\n",
    "print \"divisible by 7: \", div_by_7\n",
    "\n",
    "div_by_5_and_7 = np.logical_and(div_by_5, div_by_7)\n",
    "print \"divisible by 5 and 7: \", div_by_5_and_7\n",
    "\n",
    "print \"answer: \", num_array[div_by_5_and_7]"
   ]
  },
  {
   "cell_type": "markdown",
   "metadata": {},
   "source": [
    "## Broadcasting"
   ]
  },
  {
   "cell_type": "code",
   "execution_count": 213,
   "metadata": {
    "collapsed": false
   },
   "outputs": [
    {
     "name": "stdout",
     "output_type": "stream",
     "text": [
      "[[ 0  1  2  3  4]\n",
      " [ 5  6  7  8  9]\n",
      " [10 11 12 13 14]\n",
      " [15 16 17 18 19]\n",
      " [20 21 22 23 24]\n",
      " [25 26 27 28 29]\n",
      " [30 31 32 33 34]]\n",
      "shape:  (7, 5)\n",
      "size:  35\n"
     ]
    }
   ],
   "source": [
    "my_array = np.arange(35).reshape(7,5)\n",
    "print my_array\n",
    "\n",
    "# print dimensions of the array\n",
    "print \"shape: \", my_array.shape\n",
    "\n",
    "# print size (number of elements) in the array\n",
    "print \"size: \", my_array.size"
   ]
  },
  {
   "cell_type": "code",
   "execution_count": 214,
   "metadata": {
    "collapsed": false
   },
   "outputs": [
    {
     "name": "stdout",
     "output_type": "stream",
     "text": [
      "[[ 0  1  2]\n",
      " [ 3  4  5]\n",
      " [ 6  7  8]\n",
      " [ 9 10 11]\n",
      " [12 13 14]\n",
      " [15 16 17]\n",
      " [18 19 20]\n",
      " [21 22 23]]\n",
      "[[ 0  1  2  3  4]\n",
      " [ 5  6  7  8  9]\n",
      " [10 11 12 13 14]]\n",
      "[[ 25  28  31  34  37]\n",
      " [ 70  82  94 106 118]\n",
      " [115 136 157 178 199]\n",
      " [160 190 220 250 280]\n",
      " [205 244 283 322 361]\n",
      " [250 298 346 394 442]\n",
      " [295 352 409 466 523]\n",
      " [340 406 472 538 604]]\n"
     ]
    }
   ],
   "source": [
    "# matrix multiplication\n",
    "matrix_1 = np.arange(24).reshape(8, 3)\n",
    "print matrix_1\n",
    "\n",
    "matrix_2 = np.arange(15).reshape(3, 5)\n",
    "print matrix_2\n",
    "\n",
    "result = np.dot(matrix_1, matrix_2)\n",
    "print result"
   ]
  },
  {
   "cell_type": "code",
   "execution_count": 215,
   "metadata": {
    "collapsed": false
   },
   "outputs": [
    {
     "name": "stdout",
     "output_type": "stream",
     "text": [
      "[[[ 0  1  2  3  4  5  6  7  8]\n",
      "  [ 9 10 11 12 13 14 15 16 17]\n",
      "  [18 19 20 21 22 23 24 25 26]\n",
      "  [27 28 29 30 31 32 33 34 35]\n",
      "  [36 37 38 39 40 41 42 43 44]]\n",
      "\n",
      " [[45 46 47 48 49 50 51 52 53]\n",
      "  [54 55 56 57 58 59 60 61 62]\n",
      "  [63 64 65 66 67 68 69 70 71]\n",
      "  [72 73 74 75 76 77 78 79 80]\n",
      "  [81 82 83 84 85 86 87 88 89]]]\n",
      "[[ 45  47  49  51  53  55  57  59  61]\n",
      " [ 63  65  67  69  71  73  75  77  79]\n",
      " [ 81  83  85  87  89  91  93  95  97]\n",
      " [ 99 101 103 105 107 109 111 113 115]\n",
      " [117 119 121 123 125 127 129 131 133]]\n",
      "[[ 90  95 100 105 110 115 120 125 130]\n",
      " [315 320 325 330 335 340 345 350 355]]\n",
      "[[ 36 117 198 279 360]\n",
      " [441 522 603 684 765]]\n"
     ]
    }
   ],
   "source": [
    "# adding matrices along different axis (dimensions)\n",
    "\n",
    "# generating 3D matrix\n",
    "my_array = np.arange(90).reshape(2,5,9)\n",
    "print my_array\n",
    "\n",
    "print my_array.sum(0)         # produces a matrix excluding 0th dimension and result is matrix of dim (5, 9)\n",
    "print my_array.sum(1)         # produces a matrix excluding 1st dimension and result is matrix of dim (2, 9)   \n",
    "print my_array.sum(2)         # produces a matrix excluding 2nd dimension and result is matrix of dim (2, 5)"
   ]
  },
  {
   "cell_type": "markdown",
   "metadata": {},
   "source": [
    "## Views and Copies"
   ]
  },
  {
   "cell_type": "markdown",
   "metadata": {},
   "source": [
    "**Views** provide two or more references to the same memory location.\n",
    "\n",
    "**Copy** takes data from one location in memory and replicates/duplicates it in another location in memory."
   ]
  },
  {
   "cell_type": "code",
   "execution_count": 216,
   "metadata": {
    "collapsed": false
   },
   "outputs": [
    {
     "name": "stdout",
     "output_type": "stream",
     "text": [
      "True\n",
      "memory location of ref1:  139945812775040\n",
      "memory location of ref2:  139945812775040\n",
      "ref1 value:  [0 1 2 3 4 5 6 7 8 9]\n",
      "ref2 value:  [0 1 2 3 4 5 6 7 8 9]\n",
      "ref1 original value:  [0 1 2 3 4 5 6 7 8 9]\n",
      "ref1 changed value:  [  0   1 100   3   4   5   6   7   8   9]\n"
     ]
    }
   ],
   "source": [
    "ref1 = np.array(np.arange(10))\n",
    "ref2 = ref1                        # we are creating a different view here viz. 'ref2'\n",
    "\n",
    "# Checking reference equality\n",
    "print ref1 is ref2\n",
    "\n",
    "# Both 'ref1' and 'ref2' point to same memory location but different views is all. Let's verify it\n",
    "print \"memory location of ref1: \", id(ref1)\n",
    "print \"memory location of ref2: \", id(ref2)\n",
    "\n",
    "# Also, they both have the same value\n",
    "print \"ref1 value: \", ref1\n",
    "print \"ref2 value: \", ref2\n",
    "\n",
    "# changing the value of one variable changes the value of other variable as well as they point to same location\n",
    "print \"ref1 original value: \", ref1\n",
    "ref2[2] = 100\n",
    "print \"ref1 changed value: \", ref2"
   ]
  },
  {
   "cell_type": "markdown",
   "metadata": {},
   "source": [
    "### Example of Views (Shallow Copy)"
   ]
  },
  {
   "cell_type": "code",
   "execution_count": 217,
   "metadata": {
    "collapsed": false
   },
   "outputs": [
    {
     "name": "stdout",
     "output_type": "stream",
     "text": [
      "arr1:  [0 1 2 3 4 5 6 7 8 9]\n",
      "arr2:  [[0 1]\n",
      " [2 3]\n",
      " [4 5]\n",
      " [6 7]\n",
      " [8 9]]\n",
      "changed arr1:  [111   1   2   3   4   5   6   7   8   9]\n",
      "changes reflected in arr2:  [[111   1]\n",
      " [  2   3]\n",
      " [  4   5]\n",
      " [  6   7]\n",
      " [  8   9]]\n"
     ]
    }
   ],
   "source": [
    "# create an array\n",
    "arr1 = np.array(np.arange(10))\n",
    "print \"arr1: \", arr1\n",
    "\n",
    "# create a view of the origial array\n",
    "arr2 = arr1.view()\n",
    "arr2 = arr2.reshape(5,2)\n",
    "print \"arr2: \", arr2\n",
    "\n",
    "# change a value in arr1\n",
    "arr1[0] = 111\n",
    "print \"changed arr1: \", arr1\n",
    "\n",
    "# noice that the change is reflected in arr2\n",
    "print \"changes reflected in arr2: \", arr2"
   ]
  },
  {
   "cell_type": "markdown",
   "metadata": {},
   "source": [
    "### Example of Copy (Deep Copy)"
   ]
  },
  {
   "cell_type": "code",
   "execution_count": 218,
   "metadata": {
    "collapsed": false
   },
   "outputs": [
    {
     "name": "stdout",
     "output_type": "stream",
     "text": [
      "arr1:  [0 1 2 3 4 5 6 7 8 9]\n",
      "arr2:  [0 1 2 3 4 5 6 7 8 9]\n",
      "changed arr1:  [111   1   2   3   4   5   6   7   8   9]\n",
      "arr2 unchanged:  [0 1 2 3 4 5 6 7 8 9]\n"
     ]
    }
   ],
   "source": [
    "# create an array\n",
    "arr1 = np.array(np.arange(10))\n",
    "print \"arr1: \", arr1\n",
    "\n",
    "# create a copy \n",
    "arr2 = np.copy(arr1)\n",
    "print \"arr2: \", arr2\n",
    "\n",
    "# change a value in arr1\n",
    "arr1[0] = 111\n",
    "print \"changed arr1: \", arr1\n",
    "\n",
    "# change not reflected in arr2\n",
    "print \"arr2 unchanged: \", arr2"
   ]
  },
  {
   "cell_type": "markdown",
   "metadata": {
    "collapsed": true
   },
   "source": [
    "## Array Attributes"
   ]
  },
  {
   "cell_type": "code",
   "execution_count": 219,
   "metadata": {
    "collapsed": false
   },
   "outputs": [
    {
     "name": "stdout",
     "output_type": "stream",
     "text": [
      "Order of the matrix:  (3, 4, 2)\n",
      "Num. of elements:  24\n",
      "No. of dimensions:  3\n"
     ]
    }
   ],
   "source": [
    "my_array = np.arange(24).reshape(3, 4, 2)\n",
    "print \"Order of the matrix: \", my_array.shape\n",
    "print \"Num. of elements: \", my_array.size\n",
    "print \"No. of dimensions: \", my_array.ndim"
   ]
  },
  {
   "cell_type": "markdown",
   "metadata": {
    "collapsed": true
   },
   "source": [
    "## Add and remove elements from NumPy array"
   ]
  },
  {
   "cell_type": "code",
   "execution_count": 220,
   "metadata": {
    "collapsed": false
   },
   "outputs": [
    {
     "name": "stdout",
     "output_type": "stream",
     "text": [
      "[[[ 0  1  2  3  4  5]\n",
      "  [ 6  7  8  9 10 11]]\n",
      "\n",
      " [[12 13 14 15 16 17]\n",
      "  [18 19 20 21 22 23]]\n",
      "\n",
      " [[24 25 26 27 28 29]\n",
      "  [30 31 32 33 34 35]]]\n",
      "(42,)\n",
      "42\n",
      "(2, 3, 7)\n",
      "42\n"
     ]
    }
   ],
   "source": [
    "a = np.arange(36).reshape(3, 2, 6)\n",
    "print a\n",
    "\n",
    "# create matrix 'b'\n",
    "b = np.append(a, [111, 222, 333, 444, 555, 666])\n",
    "print b.shape\n",
    "print b.size\n",
    "\n",
    "b = b.reshape(2, 3, 7)\n",
    "print b.shape\n",
    "print b.size"
   ]
  },
  {
   "cell_type": "code",
   "execution_count": 221,
   "metadata": {
    "collapsed": false
   },
   "outputs": [
    {
     "name": "stdout",
     "output_type": "stream",
     "text": [
      "matrix a:  (3, 7, 2)\n",
      "matrix b:  (3, 7, 2)\n",
      "matrix c_axis_0:  (6, 7, 2)\n",
      "matrix c_axis_1:  (3, 14, 2)\n",
      "matrix c_axis_2:  (3, 7, 4)\n"
     ]
    }
   ],
   "source": [
    "# appending along specific axises\n",
    "a = np.arange(42).reshape(3, 7, 2)\n",
    "print \"matrix a: \", a.shape\n",
    "\n",
    "b = np.zeros(42, dtype = 'int32').reshape(3, 7, 2)\n",
    "print \"matrix b: \", b.shape\n",
    "\n",
    "c_axis_0 = np.append(a, b, axis = 0)\n",
    "print \"matrix c_axis_0: \", c_axis_0.shape\n",
    "\n",
    "c_axis_1 = np.append(a, b, axis = 1)\n",
    "print \"matrix c_axis_1: \", c_axis_1.shape\n",
    "\n",
    "c_axis_2 = np.append(a, b, axis = 2)\n",
    "print \"matrix c_axis_2: \", c_axis_2.shape"
   ]
  },
  {
   "cell_type": "markdown",
   "metadata": {},
   "source": [
    "### *numpy.hstack()*"
   ]
  },
  {
   "cell_type": "code",
   "execution_count": 222,
   "metadata": {
    "collapsed": false
   },
   "outputs": [
    {
     "name": "stdout",
     "output_type": "stream",
     "text": [
      "a:  (3, 7, 2)\n",
      "b:  (3, 7, 2)\n",
      "c:  (3, 14, 2)\n",
      "0\n",
      "0\n",
      "111\n"
     ]
    }
   ],
   "source": [
    "# Horizontal stacking -- clean function that doesn't need 'axis' attribute\n",
    "a = np.arange(42).reshape(3, 7, 2)\n",
    "b = np.zeros(42, dtype = 'int32').reshape(3, 7, 2)\n",
    "c = np.hstack((a,b))\n",
    "print \"a: \", a.shape\n",
    "print \"b: \", b.shape\n",
    "print \"c: \", c.shape\n",
    "\n",
    "# It creates copies and not views\n",
    "c[0, 0, 0] = 111\n",
    "print a[0, 0, 0]\n",
    "print b[0, 0, 0]\n",
    "print c[0, 0, 0]"
   ]
  },
  {
   "cell_type": "markdown",
   "metadata": {},
   "source": [
    "\n",
    "### *numpy.delete()*, *numpy.copyto()*, *numpy.empty()*"
   ]
  },
  {
   "cell_type": "code",
   "execution_count": 223,
   "metadata": {
    "collapsed": false
   },
   "outputs": [
    {
     "name": "stdout",
     "output_type": "stream",
     "text": [
      "b:  (2, 7, 3)\n",
      "b:  (1, 7, 3)\n",
      "b:  (2, 6, 3)\n",
      "b:  (2, 7, 2)\n"
     ]
    }
   ],
   "source": [
    "# create array 'a'\n",
    "a = np.arange(42).reshape(2, 7, 3)\n",
    "\n",
    "# create an empty array 'b' and copy all values of 'a' to 'b'\n",
    "b = np.empty(a.shape)\n",
    "np.copyto(b, a)\n",
    "print \"b: \", b.shape\n",
    "\n",
    "# delete along specific axises\n",
    "b_axis_0 = np.delete(b, 1, axis = 0)\n",
    "print \"b: \", b_axis_0.shape\n",
    "\n",
    "b_axis_1 = np.delete(b, 1, axis = 1)\n",
    "print \"b: \", b_axis_1.shape\n",
    "\n",
    "b_axis_2 = np.delete(b, 1, axis = 2)\n",
    "print \"b: \", b_axis_2.shape"
   ]
  },
  {
   "cell_type": "markdown",
   "metadata": {},
   "source": [
    "## Concatenate and split arrays"
   ]
  },
  {
   "cell_type": "markdown",
   "metadata": {},
   "source": [
    "### *numpy.concatenate()*"
   ]
  },
  {
   "cell_type": "code",
   "execution_count": 224,
   "metadata": {
    "collapsed": false
   },
   "outputs": [
    {
     "name": "stdout",
     "output_type": "stream",
     "text": [
      "a:  (3, 2, 5)\n",
      "b:  (3, 2, 5)\n",
      "c:  (6, 2, 5)\n",
      "c:  (3, 4, 5)\n",
      "c:  (3, 2, 10)\n"
     ]
    }
   ],
   "source": [
    "a = np.arange(30).reshape(3, 2, 5)\n",
    "b = np.ones(30).reshape(3, 2, 5)\n",
    "print \"a: \", a.shape\n",
    "print \"b: \", b.shape\n",
    "\n",
    "# concatenate along axis-0\n",
    "c = np.concatenate((a,b), axis = 0)\n",
    "print \"c: \", c.shape\n",
    "\n",
    "# concatenate along axis-1\n",
    "c = np.concatenate((a,b), axis = 1)\n",
    "print \"c: \", c.shape\n",
    "\n",
    "# concatenate along axis-2\n",
    "c = np.concatenate((a,b), axis = 2)\n",
    "print \"c: \", c.shape"
   ]
  },
  {
   "cell_type": "markdown",
   "metadata": {},
   "source": [
    "### *numpy.split()*"
   ]
  },
  {
   "cell_type": "code",
   "execution_count": 225,
   "metadata": {
    "collapsed": false
   },
   "outputs": [
    {
     "name": "stdout",
     "output_type": "stream",
     "text": [
      "<type 'list'>\n",
      "(1, 5, 2)\n",
      "<type 'list'>\n",
      "(3, 1, 2)\n",
      "<type 'list'>\n",
      "(3, 5, 1)\n"
     ]
    }
   ],
   "source": [
    "a = np.arange(30).reshape(3, 5, 2)\n",
    "\n",
    "# split 'a' into 3 arrays along axis = 0\n",
    "# note that each of the 3 arrays has the shape (1, 5, 2)\n",
    "split_axis_0 = np.split(a, 3, axis = 0)\n",
    "print type(split_axis_0)\n",
    "print split_axis_0[0].shape\n",
    "\n",
    "# split 'a' into 5 arrays along axis = 1\n",
    "# note that each of the 5 arrays has the shape (3, 1, 2)\n",
    "split_axis_1 = np.split(a, 5, axis = 1)\n",
    "print type(split_axis_1)\n",
    "print split_axis_1[0].shape\n",
    "\n",
    "# split 'a' into 2 arrays along axis = 2\n",
    "# note that each of the 2 arrays has the shape (3, 5, 1)\n",
    "split_axis_2 = np.split(a, 2, axis = 2)\n",
    "print type(split_axis_2)\n",
    "print split_axis_2[0].shape"
   ]
  },
  {
   "cell_type": "markdown",
   "metadata": {},
   "source": [
    "## Array shape manipulation"
   ]
  },
  {
   "cell_type": "markdown",
   "metadata": {},
   "source": [
    "### *numpy.reshape()*"
   ]
  },
  {
   "cell_type": "code",
   "execution_count": 226,
   "metadata": {
    "collapsed": false
   },
   "outputs": [
    {
     "name": "stdout",
     "output_type": "stream",
     "text": [
      "(3, 4)\n",
      "[[ 0  1  2  3]\n",
      " [ 4  5  6  7]\n",
      " [ 8  9 10 11]]\n",
      "(2, 6)\n",
      "[[ 0  1  2  3  4  5]\n",
      " [ 6  7  8  9 10 11]]\n",
      "[[1234    1    2    3]\n",
      " [   4    5    6    7]\n",
      " [   8    9   10   11]]\n"
     ]
    }
   ],
   "source": [
    "# create a 3x4 matrix\n",
    "my_array = np.arange(12).reshape(3,4)\n",
    "print my_array.shape\n",
    "print my_array\n",
    "\n",
    "# changing it to 2x6 matrix\n",
    "my_array_reshaped = np.reshape(my_array, (2, 6))\n",
    "print my_array_reshaped.shape\n",
    "print my_array_reshaped\n",
    "\n",
    "# check if it creates a view or copy\n",
    "my_array_reshaped[0, 0] = 1234\n",
    "print my_array\n",
    "\n",
    "# It can be seen that view has been created and not copy"
   ]
  },
  {
   "cell_type": "markdown",
   "metadata": {},
   "source": [
    "### *numpy.ravel() -- flattens and returns an array*"
   ]
  },
  {
   "cell_type": "code",
   "execution_count": 227,
   "metadata": {
    "collapsed": false
   },
   "outputs": [
    {
     "name": "stdout",
     "output_type": "stream",
     "text": [
      "shape of original array:  (5, 3)\n",
      "shape of reveled array:  (15,)\n"
     ]
    }
   ],
   "source": [
    "# create an array\n",
    "my_array = np.arange(15).reshape(5,3)\n",
    "print \"shape of original array: \", my_array.shape\n",
    "\n",
    "# ravel the original array i.e. create a flat array\n",
    "my_ravel_array = np.ravel(my_array)\n",
    "print \"shape of reveled array: \", my_ravel_array.shape"
   ]
  },
  {
   "cell_type": "markdown",
   "metadata": {},
   "source": [
    "### *numpy.flat() -- flattens and returns an iterator* "
   ]
  },
  {
   "cell_type": "code",
   "execution_count": 228,
   "metadata": {
    "collapsed": false
   },
   "outputs": [
    {
     "name": "stdout",
     "output_type": "stream",
     "text": [
      "shape of original array:  (5, 3)\n",
      "20\n",
      "21\n",
      "22\n",
      "23\n",
      "24\n",
      "25\n",
      "26\n",
      "27\n",
      "28\n",
      "29\n",
      "30\n",
      "31\n",
      "32\n",
      "33\n",
      "34\n"
     ]
    }
   ],
   "source": [
    "# create an array\n",
    "my_array = np.arange(20,35).reshape(5,3)\n",
    "print \"shape of original array: \", my_array.shape\n",
    "\n",
    "# flatten the original array \n",
    "flattened = my_array.flat\n",
    "for i in flattened:\n",
    "    print i"
   ]
  },
  {
   "cell_type": "markdown",
   "metadata": {},
   "source": [
    "## Rearranging array elements"
   ]
  },
  {
   "cell_type": "markdown",
   "metadata": {},
   "source": [
    "### *numpy.rot90()*"
   ]
  },
  {
   "cell_type": "code",
   "execution_count": 229,
   "metadata": {
    "collapsed": false
   },
   "outputs": [
    {
     "name": "stdout",
     "output_type": "stream",
     "text": [
      "original array: \n",
      "[[ 0  1  2  3  4  5  6]\n",
      " [ 7  8  9 10 11 12 13]\n",
      " [14 15 16 17 18 19 20]]\n",
      "rotated 90 degrees anti-clockwise: \n",
      "[[ 6 13 20]\n",
      " [ 5 12 19]\n",
      " [ 4 11 18]\n",
      " [ 3 10 17]\n",
      " [ 2  9 16]\n",
      " [ 1  8 15]\n",
      " [ 0  7 14]]\n",
      "rotated 90 degrees clockwise: \n",
      "[[14  7  0]\n",
      " [15  8  1]\n",
      " [16  9  2]\n",
      " [17 10  3]\n",
      " [18 11  4]\n",
      " [19 12  5]\n",
      " [20 13  6]]\n"
     ]
    }
   ],
   "source": [
    "# create an array\n",
    "my_array = np.arange(21).reshape((3,7))\n",
    "print \"original array: \"\n",
    "print my_array\n",
    "\n",
    "# rotate 90-degrees anti-clockwise\n",
    "my_array_90 = np.rot90(my_array)\n",
    "print \"rotated 90 degrees anti-clockwise: \"\n",
    "print my_array_90\n",
    "\n",
    "# rotate 90-degrees clockwise\n",
    "my_array_90 = np.rot90(my_array, k = -1)\n",
    "print \"rotated 90 degrees clockwise: \"\n",
    "print my_array_90"
   ]
  },
  {
   "cell_type": "markdown",
   "metadata": {},
   "source": [
    "## Writing my own python functions"
   ]
  },
  {
   "cell_type": "markdown",
   "metadata": {},
   "source": [
    "I intend to create my own function named ** *squares* ** that takes numpy 1D array as input and returns squares of numbers."
   ]
  },
  {
   "cell_type": "code",
   "execution_count": 230,
   "metadata": {
    "collapsed": false
   },
   "outputs": [],
   "source": [
    "def squares(arr):\n",
    "    return arr ** 2"
   ]
  },
  {
   "cell_type": "code",
   "execution_count": 231,
   "metadata": {
    "collapsed": false
   },
   "outputs": [],
   "source": [
    "# unit testing the function I created -- no output means that the use-case is valid\n",
    "np.testing.assert_equal(squares(5), 25)"
   ]
  },
  {
   "cell_type": "code",
   "execution_count": 232,
   "metadata": {
    "collapsed": false
   },
   "outputs": [
    {
     "ename": "AssertionError",
     "evalue": "\nItems are not equal:\n ACTUAL: 25\n DESIRED: 26",
     "output_type": "error",
     "traceback": [
      "\u001b[1;31m---------------------------------------------------------------------------\u001b[0m",
      "\u001b[1;31mAssertionError\u001b[0m                            Traceback (most recent call last)",
      "\u001b[1;32m<ipython-input-232-ea27c12abcf8>\u001b[0m in \u001b[0;36m<module>\u001b[1;34m()\u001b[0m\n\u001b[0;32m      1\u001b[0m \u001b[1;31m# an error shows that use-case is invalid\u001b[0m\u001b[1;33m\u001b[0m\u001b[1;33m\u001b[0m\u001b[0m\n\u001b[1;32m----> 2\u001b[1;33m \u001b[0mnp\u001b[0m\u001b[1;33m.\u001b[0m\u001b[0mtesting\u001b[0m\u001b[1;33m.\u001b[0m\u001b[0massert_equal\u001b[0m\u001b[1;33m(\u001b[0m\u001b[0msquares\u001b[0m\u001b[1;33m(\u001b[0m\u001b[1;36m5\u001b[0m\u001b[1;33m)\u001b[0m\u001b[1;33m,\u001b[0m \u001b[1;36m26\u001b[0m\u001b[1;33m)\u001b[0m\u001b[1;33m\u001b[0m\u001b[0m\n\u001b[0m",
      "\u001b[1;32m/home/karthikeya/anaconda2/lib/python2.7/site-packages/numpy/testing/utils.pyc\u001b[0m in \u001b[0;36massert_equal\u001b[1;34m(actual, desired, err_msg, verbose)\u001b[0m\n\u001b[0;32m    423\u001b[0m         \u001b[1;31m# Explicitly use __eq__ for comparison, ticket #2552\u001b[0m\u001b[1;33m\u001b[0m\u001b[1;33m\u001b[0m\u001b[0m\n\u001b[0;32m    424\u001b[0m         \u001b[1;32mif\u001b[0m \u001b[1;32mnot\u001b[0m \u001b[1;33m(\u001b[0m\u001b[0mdesired\u001b[0m \u001b[1;33m==\u001b[0m \u001b[0mactual\u001b[0m\u001b[1;33m)\u001b[0m\u001b[1;33m:\u001b[0m\u001b[1;33m\u001b[0m\u001b[0m\n\u001b[1;32m--> 425\u001b[1;33m             \u001b[1;32mraise\u001b[0m \u001b[0mAssertionError\u001b[0m\u001b[1;33m(\u001b[0m\u001b[0mmsg\u001b[0m\u001b[1;33m)\u001b[0m\u001b[1;33m\u001b[0m\u001b[0m\n\u001b[0m\u001b[0;32m    426\u001b[0m \u001b[1;33m\u001b[0m\u001b[0m\n\u001b[0;32m    427\u001b[0m \u001b[1;33m\u001b[0m\u001b[0m\n",
      "\u001b[1;31mAssertionError\u001b[0m: \nItems are not equal:\n ACTUAL: 25\n DESIRED: 26"
     ]
    }
   ],
   "source": [
    "# an error shows that use-case is invalid\n",
    "np.testing.assert_equal(squares(5), 26)"
   ]
  },
  {
   "cell_type": "code",
   "execution_count": null,
   "metadata": {
    "collapsed": false
   },
   "outputs": [],
   "source": [
    "# creating universal function for my created function\n",
    "karthik_squares = np.frompyfunc(squares, 1, 1)\n",
    "\n",
    "# using the universal function\n",
    "karthik_squares([1, 2, 3])"
   ]
  },
  {
   "cell_type": "markdown",
   "metadata": {},
   "source": [
    "## Linear Algebra"
   ]
  },
  {
   "cell_type": "code",
   "execution_count": null,
   "metadata": {
    "collapsed": false
   },
   "outputs": [],
   "source": [
    "# create a matrix \n",
    "my_matrix = np.matrix([[3, 5, -1],[2, 0, -4],[5, -1, 2]])\n",
    "my_matrix"
   ]
  },
  {
   "cell_type": "code",
   "execution_count": null,
   "metadata": {
    "collapsed": false
   },
   "outputs": [],
   "source": [
    "# Inverse of a matrix\n",
    "my_matrix.I"
   ]
  },
  {
   "cell_type": "code",
   "execution_count": null,
   "metadata": {
    "collapsed": false
   },
   "outputs": [],
   "source": [
    "# Transpose of a matrix\n",
    "my_matrix.T"
   ]
  },
  {
   "cell_type": "code",
   "execution_count": null,
   "metadata": {
    "collapsed": false
   },
   "outputs": [],
   "source": [
    "# finding solution for system of linear equations i.e. find X such that below equation holds\n",
    "# (my_matrix * X) = RHS \n",
    "# (3x3) * (3x1) = (3x1)\n",
    "\n",
    "# solution: X = Inverse(my_matrix) * RHS\n",
    "\n",
    "RHS = np.matrix([[6], [0], [-2]])\n",
    "X = my_matrix.I * RHS\n",
    "X"
   ]
  },
  {
   "cell_type": "code",
   "execution_count": null,
   "metadata": {
    "collapsed": false
   },
   "outputs": [],
   "source": [
    "# Testing the correctness of the solution\n",
    "# (my_matrix * X) should be equal to RHS\n",
    "my_matrix * X"
   ]
  }
 ],
 "metadata": {
  "kernelspec": {
   "display_name": "Python 2",
   "language": "python",
   "name": "python2"
  },
  "language_info": {
   "codemirror_mode": {
    "name": "ipython",
    "version": 2
   },
   "file_extension": ".py",
   "mimetype": "text/x-python",
   "name": "python",
   "nbconvert_exporter": "python",
   "pygments_lexer": "ipython2",
   "version": "2.7.13"
  },
  "toc": {
   "colors": {
    "hover_highlight": "#DAA520",
    "running_highlight": "#FF0000",
    "selected_highlight": "#FFD700"
   },
   "moveMenuLeft": true,
   "nav_menu": {
    "height": "282px",
    "width": "252px"
   },
   "navigate_menu": true,
   "number_sections": true,
   "sideBar": true,
   "threshold": 4,
   "toc_cell": false,
   "toc_section_display": "none",
   "toc_window_display": false,
   "widenNotebook": false
  }
 },
 "nbformat": 4,
 "nbformat_minor": 0
}
